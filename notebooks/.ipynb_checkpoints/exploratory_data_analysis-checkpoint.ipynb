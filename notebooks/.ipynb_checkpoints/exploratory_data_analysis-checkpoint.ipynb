{
 "cells": [
  {
   "cell_type": "code",
   "execution_count": null,
   "metadata": {},
   "outputs": [],
   "source": [
    "# Exploratory Data Analysis\n",
    "\n",
    "# In this notebook, we'll explore and visualize the dataset to understand its characteristics and distribution.\n",
    "\n",
    "## Import Libraries\n",
    "\n",
    "import matplotlib.pyplot as plt\n",
    "import seaborn as sns\n",
    "import numpy as np\n",
    "import pandas as pd\n",
    "from tensorflow.keras.preprocessing.image import ImageDataGenerator\n"
   ]
  },
  {
   "cell_type": "code",
   "execution_count": null,
   "metadata": {},
   "outputs": [],
   "source": [
    "# Visualize Sample Images\n",
    "# Let's load and visualize a few sample images from each class.\n",
    "\n",
    "def visualize_samples(directory, num_samples=5):\n",
    "    datagen = ImageDataGenerator(rescale=1./255)\n",
    "    generator = datagen.flow_from_directory(directory,\n",
    "                                             target_size=(256, 256),\n",
    "                                             batch_size=num_samples,\n",
    "                                             class_mode=None,\n",
    "                                             shuffle=True)\n",
    "    images = generator.next()\n",
    "    plt.figure(figsize=(10, 10))\n",
    "    for i in range(num_samples):\n",
    "        plt.subplot(1, num_samples, i + 1)\n",
    "        plt.imshow(images[i])\n",
    "        plt.axis('off')\n",
    "    plt.show()\n",
    "\n",
    "print(\"Real images:\")\n",
    "visualize_samples('data/raw/train/real', num_samples=5)\n",
    "print(\"Fake images:\")\n",
    "visualize_samples('data/raw/train/fake', num_samples=5)\n"
   ]
  },
  {
   "cell_type": "code",
   "execution_count": null,
   "metadata": {},
   "outputs": [],
   "source": [
    "# Dataset Summary\n",
    "# Get an overview of the dataset distribution.\n",
    "\n",
    "train_dir = 'data/raw/train/'\n",
    "validation_dir = 'data/raw/validation/'\n",
    "test_dir = 'data/raw/test/'\n",
    "\n",
    "train_datagen = ImageDataGenerator()\n",
    "train_generator = train_datagen.flow_from_directory(train_dir)\n",
    "validation_generator = train_datagen.flow_from_directory(validation_dir)\n",
    "test_generator = train_datagen.flow_from_directory(test_dir)\n",
    "\n",
    "print(f\"Training samples: {train_generator.samples}\")\n",
    "print(f\"Validation samples: {validation_generator.samples}\")\n",
    "print(f\"Test samples: {test_generator.samples}\")\n"
   ]
  },
  {
   "cell_type": "code",
   "execution_count": null,
   "metadata": {},
   "outputs": [],
   "source": [
    "# Class Distribution\n",
    "# Visualize the class distribution.\n",
    "\n",
    "def plot_class_distribution(generator, title='Class Distribution'):\n",
    "    class_labels = list(generator.class_indices.keys())\n",
    "    class_counts = [generator.samples for _ in class_labels]\n",
    "    \n",
    "    plt.figure(figsize=(8, 6))\n",
    "    sns.barplot(x=class_labels, y=class_counts)\n",
    "    plt.title(title)\n",
    "    plt.xlabel('Class')\n",
    "    plt.ylabel('Count')\n",
    "    plt.show()\n",
    "\n",
    "plot_class_distribution(train_generator, title='Training Class Distribution')\n"
   ]
  }
 ],
 "metadata": {
  "kernelspec": {
   "display_name": "Python 3 (ipykernel)",
   "language": "python",
   "name": "python3"
  },
  "language_info": {
   "codemirror_mode": {
    "name": "ipython",
    "version": 3
   },
   "file_extension": ".py",
   "mimetype": "text/x-python",
   "name": "python",
   "nbconvert_exporter": "python",
   "pygments_lexer": "ipython3",
   "version": "3.8.10"
  }
 },
 "nbformat": 4,
 "nbformat_minor": 4
}
