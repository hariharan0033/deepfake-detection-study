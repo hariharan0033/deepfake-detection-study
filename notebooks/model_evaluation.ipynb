{
 "cells": [
  {
   "cell_type": "code",
   "execution_count": null,
   "metadata": {},
   "outputs": [],
   "source": [
    "# Model Evaluation\n",
    "\n",
    "# In this notebook, we will evaluate the performance of our trained models (XceptionNet, EfficientNet, Meso4) on the test dataset and compare their performance.\n",
    "\n",
    "## Import Libraries\n",
    "\n",
    "import tensorflow as tf\n",
    "from tensorflow.keras.preprocessing.image import ImageDataGenerator\n",
    "import matplotlib.pyplot as plt\n",
    "import pandas as pd\n"
   ]
  },
  {
   "cell_type": "code",
   "execution_count": null,
   "metadata": {},
   "outputs": [],
   "source": [
    "# Define Evaluation Function\n",
    "# We'll define a function to load a model, run it on the test dataset, and return the loss and accuracy.\n",
    "\n",
    "def evaluate_model(model_path, test_generator):\n",
    "    model = tf.keras.models.load_model(model_path)\n",
    "    loss, accuracy = model.evaluate(test_generator)\n",
    "    return loss, accuracy\n"
   ]
  },
  {
   "cell_type": "code",
   "execution_count": null,
   "metadata": {},
   "outputs": [],
   "source": [
    "# Load Test Data\n",
    "# Here we load the test data using an ImageDataGenerator. The images are resized and rescaled to match the input requirements of the models.\n",
    "\n",
    "test_datagen = ImageDataGenerator(rescale=1./255)\n",
    "\n",
    "test_generator = test_datagen.flow_from_directory(\n",
    "    'data/processed/test/',\n",
    "    target_size=(256, 256),\n",
    "    batch_size=32,\n",
    "    class_mode='binary'\n",
    ")\n"
   ]
  },
  {
   "cell_type": "code",
   "execution_count": null,
   "metadata": {},
   "outputs": [],
   "source": [
    "# Evaluate XceptionNet\n",
    "# Now we evaluate the XceptionNet model and print the results.\n",
    "\n",
    "xception_loss, xception_accuracy = evaluate_model('models/xception/xception_model.h5', test_generator)\n",
    "print(f\"XceptionNet - Loss: {xception_loss}, Accuracy: {xception_accuracy}\")\n"
   ]
  },
  {
   "cell_type": "code",
   "execution_count": null,
   "metadata": {},
   "outputs": [],
   "source": [
    "# Evaluate EfficientNet\n",
    "# Similarly, we evaluate the EfficientNet model.\n",
    "\n",
    "efficientnet_loss, efficientnet_accuracy = evaluate_model('models/efficientnet/efficientnet_model.h5', test_generator)\n",
    "print(f\"EfficientNet - Loss: {efficientnet_loss}, Accuracy: {efficientnet_accuracy}\")\n"
   ]
  },
  {
   "cell_type": "code",
   "execution_count": null,
   "metadata": {},
   "outputs": [],
   "source": [
    "# Evaluate Meso4\n",
    "# Finally, we evaluate the Meso4 model.\n",
    "\n",
    "meso4_loss, meso4_accuracy = evaluate_model('models/meso4/meso4_model.h5', test_generator)\n",
    "print(f\"Meso4 - Loss: {meso4_loss}, Accuracy: {meso4_accuracy}\")\n"
   ]
  },
  {
   "cell_type": "code",
   "execution_count": null,
   "metadata": {},
   "outputs": [],
   "source": [
    "# Compare Results\n",
    "# We create a DataFrame to store the results and then plot a comparison of the models.\n",
    "\n",
    "results = pd.DataFrame({\n",
    "    \"Model\": [\"XceptionNet\", \"EfficientNet\", \"Meso4\"],\n",
    "    \"Loss\": [xception_loss, efficientnet_loss, meso4_loss],\n",
    "    \"Accuracy\": [xception_accuracy, efficientnet_accuracy, meso4_accuracy]\n",
    "})\n",
    "\n",
    "print(results)\n",
    "\n",
    "results.plot(x=\"Model\", y=[\"Loss\", \"Accuracy\"], kind=\"bar\", figsize=(12, 6), title=\"Model Comparison\")\n",
    "plt.show()\n"
   ]
  }
 ],
 "metadata": {
  "kernelspec": {
   "display_name": "Python 3 (ipykernel)",
   "language": "python",
   "name": "python3"
  },
  "language_info": {
   "codemirror_mode": {
    "name": "ipython",
    "version": 3
   },
   "file_extension": ".py",
   "mimetype": "text/x-python",
   "name": "python",
   "nbconvert_exporter": "python",
   "pygments_lexer": "ipython3",
   "version": "3.8.10"
  }
 },
 "nbformat": 4,
 "nbformat_minor": 4
}
